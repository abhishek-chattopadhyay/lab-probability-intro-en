{
 "cells": [
  {
   "cell_type": "markdown",
   "metadata": {},
   "source": [
    "# Probability"
   ]
  },
  {
   "cell_type": "markdown",
   "metadata": {},
   "source": [
    "## Challenge 1\n",
    "There is a box with 10 white balls, 12 red balls and 8 black balls. Calculate the probability of:\n",
    "* Taking a white ball out.\n",
    "* Taking a white ball on first extraction and a black ball out on second extraction without replacing the first one.\n",
    "* Taking a white ball on first extraction and a black ball out on second extraction replacing the first one.\n",
    "* Taking 3 balls and them being all different colours."
   ]
  },
  {
   "cell_type": "markdown",
   "metadata": {},
   "source": [
    "## Solution 1"
   ]
  },
  {
   "cell_type": "markdown",
   "metadata": {},
   "source": [
    "- Probability of taking a white ball out, P(W) = $\\mathrm{\\frac{Total \\ no. \\ of  \\ white \\ balls}{Total \\ no. \\ of \\ balls}} = \\frac{10}{10 + 12 + 8} = \\frac{1}{3}$\n",
    "- Probability of taking a white ball on first extraction and a black ball out on second extraction without replacing the first one: $\\frac{10}{30} \\times \\frac{8}{29} = 0.092$\n",
    "- Probability of taking a white ball on first extraction and a black ball out on second extraction replacing the first one: $\\frac{10}{30} \\times \\frac{8}{30} = 0.089$\n",
    "- Probability of taking 3 balls and them being all different colours: \\\n",
    "No of ways to choose a white ball = $10C1 = 10$ \\\n",
    "No of ways to choose a red ball = $12C1 = 12$ \\\n",
    "No of ways to choose a black ball = $8C1 = 8$ \\\n",
    "Total number of ways to choose three different colored balls = $10 \\times 12 \\times 8 = 960$ \\\n",
    "Total number of ways to choose three balls of any color = $30C3 = 4060$ \\\n",
    "So the desired probability = $\\frac{960}{4060} \\approx 0.236$"
   ]
  },
  {
   "cell_type": "markdown",
   "metadata": {},
   "source": [
    "## Challenge 2\n",
    "\n",
    "You want to go on picnic on Saturday. You hate rain, and would know to plan your weekend. To help you make a decision, you gather the following data about rainy days:\n",
    "\n",
    "* 40% of all days are cloudy.\n",
    "* About 50% of cloudy days are rainy. \n",
    "* About 20% of non-cloudy days are rainy.\n",
    "\n",
    "What is the chance of rain during next Saturday?"
   ]
  },
  {
   "cell_type": "markdown",
   "metadata": {},
   "source": [
    "## Solution 2"
   ]
  },
  {
   "cell_type": "markdown",
   "metadata": {},
   "source": [
    "Let's say we have total 100 days \\\n",
    "Cloudy days = 40 \\\n",
    "Non-cloudy days = 100 - 40 = 60 \\\n",
    "Rainy days with cloud = $40 \\times 0.5 = 20$ \\\n",
    "Rainy days with no cloud = $60 \\times 0.2 = 12$ \\\n",
    "Total rainy days = 20 + 12 = 32 \\\n",
    "So the probability of rain during next Saturday = $\\frac{32}{100} = 0.32$"
   ]
  },
  {
   "cell_type": "markdown",
   "metadata": {},
   "source": [
    "## Challenge 3\n",
    "\n",
    "A and B are events of a probability such that $P(A) = 0.3$, $P(B) = 0.6$ and $P(A \\cap B) = 0.1$\n",
    "\n",
    "Which of the following statements are true?  \n",
    "**HINT: draw a big Venn Diagram by your side**  \n",
    "* $P(\\overline{A}) = 0.7$\n",
    "* $P(A \\cup B) = 0.6$\n",
    "* $P(A \\cap \\overline{B}) = 0.2$\n",
    "* $P(A \\cup \\overline{A}) = 1$  \n",
    "* $P(A \\cap (B \\cup \\overline{B})) = 0.4$\n",
    "* $P(\\overline{A} \\cap \\overline{B}) = 0.3$\n",
    "* $P(\\overline{A \\cap B}) = 0.9$"
   ]
  },
  {
   "cell_type": "markdown",
   "metadata": {},
   "source": [
    "## Solution 3"
   ]
  },
  {
   "cell_type": "markdown",
   "metadata": {},
   "source": [
    "- $P(\\overline A) = 1 - P(A) = 1 - 0.3 = 0.7$ (The above statement is true)\n",
    "- $P(A \\cup B) = P(A) + P(B) - P(A \\cap B) = 0.3 + 0.6 - 0.1 = 0.8$ (the above statement is false)\n",
    "- $P(A \\cap \\overline B) = P(A) - P(A \\cap B) = 0.3 - 0.1 = 0.2$ (the above statement is true)\n",
    "- $P(A \\cup \\overline A) = P(S) = 1$ (the above statement is true)\n",
    "- $P(A \\cap (B \\cup \\overline B)) = P(A \\cap S) = P(A) = 0.3$ (the above statement is false)\n",
    "- $P(\\overline{A} \\cap \\overline{B}) = 1 - P(\\overline{A \\cup B}) = 1 - (1 - 0.1) = 0.1$ (the above statement is false)\n",
    "- This statement is true"
   ]
  },
  {
   "cell_type": "markdown",
   "metadata": {},
   "source": [
    "## Challenge 4\n",
    "\n",
    " * If someone flies to China, the probability of getting Covid is 1%  \n",
    " * If someone flies to Italy, the probability of getting Covid is 20%  \n",
    "\n",
    "I roll 1 dice with numbers 1, 2, 3, 4, 5, 6:  \n",
    " * If 1: I fly to Italy\n",
    " * If not 1: I fly to China\n",
    "\n",
    "During my trip, I got Covid. What is the probability that I flew to China?"
   ]
  },
  {
   "cell_type": "markdown",
   "metadata": {},
   "source": [
    "$P(China) = \\frac{5}{6}$ \\\n",
    "$P(Italy) = \\frac{1}{6}$ \\\n",
    "$P(Covid | China) = 0.01$ \\\n",
    "$P(Covid | Italy) = 0.2$ \\\n",
    "Now I got Covid. There are two ways I can get Covid. Either flying to China or flying to Italy. \\\n",
    "$P(Covid) = P(Covid \\cap China) + P(Covid \\cap Italy) = P(Covid|China) \\times P(China) + P(Covid | Italy) \\times P(Italy)$ \\\n",
    "$P(China | Covid)$ = Probability of getting Covid given that I flew to China. \\\n",
    "$P(China | Covid) / P(China) = P(Covid | China) / P(Covid)$ \\\n",
    "Solving this, I get $P(China | Covid) = 0.2$"
   ]
  },
  {
   "cell_type": "markdown",
   "metadata": {},
   "source": [
    "## BONUS\n",
    "\n",
    "You roll 2 dice. What is the probability that the sum of the numbers is 7? And 8? And 9? Then simulate 10000 times and draw a countplot."
   ]
  },
  {
   "cell_type": "markdown",
   "metadata": {},
   "source": [
    "your explanation here"
   ]
  },
  {
   "cell_type": "markdown",
   "metadata": {},
   "source": [
    "Here the sample space is = 6 * 6 = 36 \\\n",
    "Total number of ways we can get 7 is 6 e.g. {(1, 6), (2, 5), (3, 4), (4, 3), (5, 2), (6, 1)}. \\\n",
    "Total number of ways we can get 8 is 5 e.g. {(2, 6), (3, 5), (4, 4), (5, 3), (6, 2)} \\\n",
    "Total number of ways we can get 9 is 4 e.g. {(3, 6), (4, 5), (5, 4), (6, 3)} \\\n",
    "So the prob that the sum of numbers is 7 = $\\frac{6}{36} = \\frac{1}{6}$ \\\n",
    "The prob that the sum of numbers is 8 = $\\frac{5}{36}$ \\\n",
    "The prob that the sum of numbers is 9 = $\\frac{4}{36} = \\frac{1}{9}$ "
   ]
  },
  {
   "cell_type": "code",
   "execution_count": 2,
   "metadata": {},
   "outputs": [],
   "source": [
    "# simulation here\n",
    "import numpy as np\n",
    "nsteps = 10000\n",
    "sum_of_numbers = []\n",
    "\n",
    "for i in range(nsteps):\n",
    "    a = np.random.randint(1, 7)\n",
    "    b = np.random.randint(1, 7)\n",
    "    sum_of_numbers.append(a + b)"
   ]
  },
  {
   "cell_type": "code",
   "execution_count": 6,
   "metadata": {},
   "outputs": [
    {
     "data": {
      "text/plain": [
       "10000"
      ]
     },
     "execution_count": 6,
     "metadata": {},
     "output_type": "execute_result"
    }
   ],
   "source": [
    "len(sum_of_numbers)"
   ]
  },
  {
   "cell_type": "code",
   "execution_count": 10,
   "metadata": {},
   "outputs": [
    {
     "data": {
      "image/png": "[encoded data removed]",
      "text/plain": [
       "<Figure size 640x480 with 1 Axes>"
      ]
     },
     "metadata": {},
     "output_type": "display_data"
    }
   ],
   "source": [
    "# countplot\n",
    "import seaborn as sns\n",
    "import matplotlib.pyplot as plt\n",
    "%matplotlib inline\n",
    "import pandas as pd\n",
    "\n",
    "sns.countplot(x=pd.Series(np.array(sum_of_numbers)))\n",
    "plt.show()"
   ]
  },
  {
   "cell_type": "code",
   "execution_count": null,
   "metadata": {},
   "outputs": [],
   "source": []
  }
 ],
 "metadata": {
  "kernelspec": {
   "display_name": "Python 3",
   "language": "python",
   "name": "python3"
  },
  "language_info": {
   "codemirror_mode": {
    "name": "ipython",
    "version": 3
   },
   "file_extension": ".py",
   "mimetype": "text/x-python",
   "name": "python",
   "nbconvert_exporter": "python",
   "pygments_lexer": "ipython3",
   "version": "3.13.2"
  },
  "toc": {
   "base_numbering": 1,
   "nav_menu": {},
   "number_sections": false,
   "sideBar": true,
   "skip_h1_title": false,
   "title_cell": "Table of Contents",
   "title_sidebar": "Contents",
   "toc_cell": false,
   "toc_position": {
    "height": "calc(100% - 180px)",
    "left": "10px",
    "top": "150px",
    "width": "296.475px"
   },
   "toc_section_display": true,
   "toc_window_display": false
  },
  "varInspector": {
   "cols": {
    "lenName": 16,
    "lenType": 16,
    "lenVar": 40
   },
   "kernels_config": {
    "python": {
     "delete_cmd_postfix": "",
     "delete_cmd_prefix": "del ",
     "library": "var_list.py",
     "varRefreshCmd": "print(var_dic_list())"
    },
    "r": {
     "delete_cmd_postfix": ") ",
     "delete_cmd_prefix": "rm(",
     "library": "var_list.r",
     "varRefreshCmd": "cat(var_dic_list()) "
    }
   },
   "types_to_exclude": [
    "module",
    "function",
    "builtin_function_or_method",
    "instance",
    "_Feature"
   ],
   "window_display": false
  }
 },
 "nbformat": 4,
 "nbformat_minor": 2
}
